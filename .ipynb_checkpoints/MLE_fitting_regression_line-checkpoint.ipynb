{
 "cells": [
  {
   "cell_type": "code",
   "execution_count": 34,
   "metadata": {},
   "outputs": [],
   "source": [
    "import numpy as np\n",
    "import matplotlib.pyplot as plt\n",
    "from sklearn.cross_validation import train_test_split\n",
    "%matplotlib inline\n",
    "\n",
    "# import the packages\n",
    "import numpy as np\n",
    "from scipy.optimize import minimize\n",
    "import scipy.stats as stats\n",
    "import time\n"
   ]
  },
  {
   "cell_type": "code",
   "execution_count": 44,
   "metadata": {},
   "outputs": [],
   "source": [
    "def generate_dataset_simple(beta, n, std_dev):\n",
    "    # Generate x as an array of `n` samples which can take a value between 0 and 100\n",
    "    x = np.random.rand(n) * 100\n",
    "    # Generate the random error of n samples, with a random value from a normal distribution, with a standard\n",
    "    # deviation provided in the function argument\n",
    "    e = np.random.randn(n) * std_dev\n",
    "    # Calculate `y` according to the equation discussed\n",
    "    y = x * beta + e\n",
    "    return x, y "
   ]
  },
  {
   "cell_type": "code",
   "execution_count": 45,
   "metadata": {},
   "outputs": [],
   "source": [
    "x,y = generate_dataset_simple(15, 50, 100)"
   ]
  },
  {
   "cell_type": "code",
   "execution_count": 46,
   "metadata": {},
   "outputs": [
    {
     "data": {
      "text/plain": [
       "<matplotlib.collections.PathCollection at 0x10b37a860>"
      ]
     },
     "execution_count": 46,
     "metadata": {},
     "output_type": "execute_result"
    },
    {
     "data": {
      "image/png": "[encoded data removed]",
      "text/plain": [
       "<Figure size 432x288 with 1 Axes>"
      ]
     },
     "metadata": {},
     "output_type": "display_data"
    }
   ],
   "source": [
    "plt.scatter(x,y)"
   ]
  },
  {
   "cell_type": "code",
   "execution_count": 30,
   "metadata": {},
   "outputs": [
    {
     "name": "stdout",
     "output_type": "stream",
     "text": [
      "length of train sample:  33\n",
      "length of test sample:  17\n"
     ]
    }
   ],
   "source": [
    "X_train, X_test, y_train, y_test = train_test_split(x,y,test_size=0.33, random_state=42)\n",
    "\n",
    "print(\"length of train sample: \", len(X_train))\n",
    "print(\"length of test sample: \", len(X_test))"
   ]
  },
  {
   "cell_type": "code",
   "execution_count": 23,
   "metadata": {},
   "outputs": [],
   "source": [
    "#   define a function to calculate the log likelihood\n",
    "def calcLogLikelihood(guess, true, n):\n",
    "    error = true-guess\n",
    "    sigma = np.std(error)\n",
    "    f = ((1.0/(2.0*math.pi*sigma*sigma))**(n/2))* \\\n",
    "        np.exp(-1*((np.dot(error.T,error))/(2*sigma*sigma)))\n",
    "    return np.log(f)"
   ]
  },
  {
   "cell_type": "code",
   "execution_count": 33,
   "metadata": {},
   "outputs": [
    {
     "name": "stdout",
     "output_type": "stream",
     "text": [
      "[4.89421233 2.39904794 4.26134941]\n"
     ]
    }
   ],
   "source": [
    "# Set up your x values\n",
    "x = np.linspace(0, 100, num=100)\n",
    "\n",
    "# Set up your observed y values with a known slope (2.4), intercept (5), and sd (4)\n",
    "yObs = 5 + 2.4*x + np.random.normal(0, 4, 100)\n",
    "\n",
    "# Define the likelihood function where params is a list of initial parameter estimates\n",
    "def regressLL(params):\n",
    "    # Resave the initial parameter guesses\n",
    "    b0 = params[0]\n",
    "    b1 = params[1]\n",
    "    sd = params[2]\n",
    "\n",
    "    # Calculate the predicted values from the initial parameter guesses\n",
    "    yPred = b0 + b1*x\n",
    "\n",
    "    # Calculate the negative log-likelihood as the negative sum of the log of a normal\n",
    "    # PDF where the observed values are normally distributed around the mean (yPred)\n",
    "    # with a standard deviation of sd\n",
    "    logLik = -np.sum(stats.norm.logpdf(yObs, loc=yPred, scale=sd) )\n",
    "\n",
    "    # Tell the function to return the NLL (this is what will be minimized)\n",
    "    return(logLik)\n",
    "\n",
    "# Make a list of initial parameter guesses (b0, b1, sd)    \n",
    "initParams = [1, 1, 1]\n",
    "\n",
    "# Run the minimizer\n",
    "results = minimize(regressLL, initParams, method='nelder-mead')\n",
    "\n",
    "# Print the results. They should be really close to your actual values\n",
    "print (results.x)"
   ]
  },
  {
   "cell_type": "code",
   "execution_count": 49,
   "metadata": {},
   "outputs": [
    {
     "name": "stdout",
     "output_type": "stream",
     "text": [
      "0.19947114020071635\n"
     ]
    }
   ],
   "source": [
    "# https://github.com/odubno/GaussNaiveBayes#likelihood\n",
    "from math import e, pi\n",
    "\n",
    "class GaussNB:\n",
    "    def normal_pdf(self, x, mean, stdev):\n",
    "        \"\"\"\n",
    "        :param x: a variable\n",
    "        :param mean: µ - the expected value or average from M samples\n",
    "        :param stdev: σ - standard deviation\n",
    "        :return: Gaussian (Normal) Density function.\n",
    "        N(x; µ, σ) = (1 / 2πσ) * (e ^ (x–µ)^2/-2σ^2\n",
    "        \"\"\"\n",
    "        variance = stdev ** 2\n",
    "        exp_squared_diff = (x - mean) ** 2\n",
    "        exp_power = -exp_squared_diff / (2 * variance)\n",
    "        exponent = e ** exp_power\n",
    "        denominator = ((2 * pi) ** .5) * stdev\n",
    "        normal_prob = exponent / denominator\n",
    "        return normal_prob\n",
    "\n",
    "def main():\n",
    "    nb = GaussNB()\n",
    "    normal_prob = nb.normal_pdf(5, 5, 2)\n",
    "    print (normal_prob)\n",
    "\n",
    "if __name__ == '__main__':\n",
    "    main()"
   ]
  },
  {
   "cell_type": "code",
   "execution_count": null,
   "metadata": {},
   "outputs": [],
   "source": []
  }
 ],
 "metadata": {
  "kernelspec": {
   "display_name": "Python (py3)",
   "language": "python",
   "name": "py3"
  },
  "language_info": {
   "codemirror_mode": {
    "name": "ipython",
    "version": 3
   },
   "file_extension": ".py",
   "mimetype": "text/x-python",
   "name": "python",
   "nbconvert_exporter": "python",
   "pygments_lexer": "ipython3",
   "version": "3.6.4"
  }
 },
 "nbformat": 4,
 "nbformat_minor": 2
}
