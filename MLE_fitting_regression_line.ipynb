{
 "cells": [
  {
   "cell_type": "code",
   "execution_count": 1,
   "metadata": {},
   "outputs": [
    {
     "name": "stderr",
     "output_type": "stream",
     "text": [
      "/Users/aquibkhan/miniconda3/envs/py3/lib/python3.6/site-packages/sklearn/cross_validation.py:41: DeprecationWarning: This module was deprecated in version 0.18 in favor of the model_selection module into which all the refactored classes and functions are moved. Also note that the interface of the new CV iterators are different from that of this module. This module will be removed in 0.20.\n",
      "  \"This module will be removed in 0.20.\", DeprecationWarning)\n"
     ]
    }
   ],
   "source": [
    "import numpy as np\n",
    "import matplotlib.pyplot as plt\n",
    "from sklearn.cross_validation import train_test_split\n",
    "%matplotlib inline\n",
    "\n",
    "# import the packages\n",
    "import numpy as np\n",
    "from scipy.optimize import minimize\n",
    "import scipy.stats as stats\n",
    "import time"
   ]
  },
  {
   "cell_type": "code",
   "execution_count": 2,
   "metadata": {},
   "outputs": [],
   "source": [
    "def generate_dataset_simple(beta, n, std_dev):\n",
    "    # Generate x as an array of `n` samples which can take a value between 0 and 100\n",
    "    x = np.random.rand(n) * 100\n",
    "    # Generate the random error of n samples, with a random value from a normal distribution, with a standard\n",
    "    # deviation provided in the function argument\n",
    "    e = np.random.randn(n) * std_dev\n",
    "    # Calculate `y` according to the equation discussed\n",
    "    y = x * beta + e\n",
    "    return x, y "
   ]
  },
  {
   "cell_type": "code",
   "execution_count": 3,
   "metadata": {},
   "outputs": [],
   "source": [
    "x,y = generate_dataset_simple(15, 50, 100)"
   ]
  },
  {
   "cell_type": "code",
   "execution_count": 4,
   "metadata": {},
   "outputs": [
    {
     "data": {
      "text/plain": [
       "<matplotlib.collections.PathCollection at 0x10972db00>"
      ]
     },
     "execution_count": 4,
     "metadata": {},
     "output_type": "execute_result"
    },
    {
     "data": {
      "image/png": "[encoded data removed]",
      "text/plain": [
       "<Figure size 432x288 with 1 Axes>"
      ]
     },
     "metadata": {},
     "output_type": "display_data"
    }
   ],
   "source": [
    "plt.scatter(x,y)"
   ]
  },
  {
   "cell_type": "code",
   "execution_count": 5,
   "metadata": {},
   "outputs": [
    {
     "name": "stdout",
     "output_type": "stream",
     "text": [
      "length of train sample:  33\n",
      "length of test sample:  17\n"
     ]
    }
   ],
   "source": [
    "X_train, X_test, y_train, y_test = train_test_split(x,y,test_size=0.33, random_state=42)\n",
    "\n",
    "print(\"length of train sample: \", len(X_train))\n",
    "print(\"length of test sample: \", len(X_test))"
   ]
  },
  {
   "cell_type": "code",
   "execution_count": 23,
   "metadata": {},
   "outputs": [],
   "source": [
    "#   define a function to calculate the log likelihood\n",
    "def calcLogLikelihood(guess, true, n):\n",
    "    error = true-guess\n",
    "    sigma = np.std(error)\n",
    "    f = ((1.0/(2.0*math.pi*sigma*sigma))**(n/2))* \\\n",
    "        np.exp(-1*((np.dot(error.T,error))/(2*sigma*sigma)))\n",
    "    return np.log(f)"
   ]
  },
  {
   "cell_type": "code",
   "execution_count": 6,
   "metadata": {},
   "outputs": [],
   "source": [
    "def neg_loglike(theta):\n",
    "    beta = theta[:-1]\n",
    "    sigma = theta[-1]\n",
    "    mu = np.dot(x,beta)\n",
    "    ll = -N/2 * np.log(2*np.pi*sigma**2) - (1/(2*sigma**2)) * np.sum((y - mu)**2)\n",
    "    return -1 * ll"
   ]
  },
  {
   "cell_type": "code",
   "execution_count": 8,
   "metadata": {},
   "outputs": [
    {
     "data": {
      "image/png": "[encoded data removed]",
      "text/plain": [
       "<Figure size 432x288 with 1 Axes>"
      ]
     },
     "metadata": {},
     "output_type": "display_data"
    }
   ],
   "source": [
    "import numpy as np\n",
    "from scipy.optimize import minimize\n",
    "\n",
    "def lik(parameters):\n",
    "    m = parameters[0]\n",
    "    b = parameters[1]\n",
    "    sigma = parameters[2]\n",
    "    for i in np.arange(0, len(x)):\n",
    "        y_exp = m * x + b\n",
    "    L = (len(x)/2 * np.log(2 * np.pi) + len(x)/2 * np.log(sigma ** 2) + 1 /\n",
    "         (2 * sigma ** 2) * sum((y - y_exp) ** 2))\n",
    "    return L\n",
    "\n",
    "# x = np.array([1,2,3,4,5])\n",
    "# y = np.array([2,5,8,11,14])\n",
    "\n",
    "x = X_train\n",
    "y = y_train\n",
    "\n",
    "\n",
    "lik_model = minimize(lik, np.array([1,1,1]), method='L-BFGS-B')\n",
    "plt.scatter(x,y)\n",
    "plt.plot(x, lik_model['x'][0] * x + lik_model['x'][1])\n",
    "plt.show()"
   ]
  },
  {
   "cell_type": "code",
   "execution_count": null,
   "metadata": {},
   "outputs": [],
   "source": []
  },
  {
   "cell_type": "code",
   "execution_count": null,
   "metadata": {},
   "outputs": [],
   "source": []
  }
 ],
 "metadata": {
  "kernelspec": {
   "display_name": "Python (py3)",
   "language": "python",
   "name": "py3"
  },
  "language_info": {
   "codemirror_mode": {
    "name": "ipython",
    "version": 3
   },
   "file_extension": ".py",
   "mimetype": "text/x-python",
   "name": "python",
   "nbconvert_exporter": "python",
   "pygments_lexer": "ipython3",
   "version": "3.6.4"
  }
 },
 "nbformat": 4,
 "nbformat_minor": 2
}
